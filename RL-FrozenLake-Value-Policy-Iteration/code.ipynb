{
  "cells": [
    {
      "cell_type": "markdown",
      "metadata": {
        "id": "W12EvDgOom_k"
      },
      "source": [
        "<h1>Import Required Libraries<h1>\n",
        "<p>This section loads all the essential libraries used for environment setup, numerical operations, and visualization.<p>\n"
      ]
    },
    {
      "cell_type": "code",
      "execution_count": 27,
      "metadata": {
        "id": "Ce-t4K98oKtp"
      },
      "outputs": [],
      "source": [
        "import gymnasium as gym  # Import the Gymnasium library for reinforcement learning environments\n",
        "import numpy as np       # Import NumPy for numerical operations\n",
        "import matplotlib.pyplot as plt  # Import Matplotlib for plotting\n",
        "import seaborn as sns    # Import Seaborn for better visualization aesthetics"
      ]
    },
    {
      "cell_type": "markdown",
      "metadata": {
        "id": "la3H1GEFpF5f"
      },
      "source": [
        "<h1>Environment Setup with Custom FrozenLake Map<h1>\n",
        "<p>This section defines a custom 4x4 map layout and initializes the FrozenLake-v1 environment using Gymnasium.<p>\n"
      ]
    },
    {
      "cell_type": "code",
      "execution_count": 28,
      "metadata": {
        "id": "XUIp_eINTHFv"
      },
      "outputs": [],
      "source": [
        "# Define a custom 4x4 map layout for the FrozenLake environment\n",
        "desc = [\n",
        "    # S = Start, F = Frozen (safe), H = Hole (you fall in and lose), G = Goal\n",
        "    \"SFFF\",\n",
        "    \"FHFH\",\n",
        "    \"FFFH\",\n",
        "    \"HFFG\"\n",
        "]\n",
        "\n",
        "# Create the FrozenLake environment with the custom map\n",
        "# is_slippery=True means there's a chance the agent may slip to the side\n",
        "env = gym.make('FrozenLake-v1', desc=desc, map_name=\"4x4\", is_slippery=True)\n",
        "\n",
        "# Access the raw environment to bypass any wrappers (for full control)\n",
        "env = env.unwrapped\n"
      ]
    },
    {
      "cell_type": "markdown",
      "metadata": {
        "id": "mBeGisZBprfK"
      },
      "source": [
        "<h1>Value Iteration Algorithm<h1>\n",
        "<p>This section implements the core value iteration algorithm to compute the optimal value function and policy for the FrozenLake environment.\n",
        "<p>\n"
      ]
    },
    {
      "cell_type": "code",
      "execution_count": 29,
      "metadata": {
        "id": "svCck3VXTIzM"
      },
      "outputs": [],
      "source": [
        "def value_iteration(env, gamma=1.0, theta=1e-8):\n",
        "    # Get the number of states and actions from the environment\n",
        "    n_states = env.observation_space.n\n",
        "    n_actions = env.action_space.n\n",
        "\n",
        "    # Initialize the value function for all states to zero\n",
        "    V = np.zeros(n_states)\n",
        "\n",
        "    # Initialize a policy as a one-hot vector for each state (to be filled later)\n",
        "    policy = np.zeros((n_states, n_actions))\n",
        "\n",
        "    iteration = 0  # Counter to keep track of how many iterations it takes\n",
        "\n",
        "    # Begin Value Iteration loop\n",
        "    while True:\n",
        "        delta = 0  # Tracks the maximum change in value function across states\n",
        "        for s in range(n_states):\n",
        "            q_sa = np.zeros(n_actions)  # To store Q-values for each action at state s\n",
        "            for a in range(n_actions):\n",
        "                # Loop over all possible outcomes for taking action 'a' at state 's'\n",
        "                for prob, next_state, reward, done in env.P[s][a]:\n",
        "                    q_sa[a] += prob * (reward + gamma * V[next_state])\n",
        "            max_q = np.max(q_sa)  # Best Q-value for this state\n",
        "            delta = max(delta, abs(max_q - V[s]))  # Update the largest change\n",
        "            V[s] = max_q  # Update the value function\n",
        "        iteration += 1\n",
        "        if delta < theta:  # If change is below the threshold, stop iterating\n",
        "            break\n",
        "\n",
        "    # Extract optimal policy from the value function\n",
        "    for s in range(n_states):\n",
        "        q_sa = np.zeros(n_actions)\n",
        "        for a in range(n_actions):\n",
        "            for prob, next_state, reward, done in env.P[s][a]:\n",
        "                q_sa[a] += prob * (reward + gamma * V[next_state])\n",
        "        best_action = np.argmax(q_sa)  # Choose the action with the highest Q-value\n",
        "        policy[s][best_action] = 1.0  # Make it a deterministic policy (one-hot)\n",
        "\n",
        "    return V, policy, iteration  # Return value function, optimal policy, and iteration count"
      ]
    },
    {
      "cell_type": "markdown",
      "metadata": {
        "id": "scSWBfNMqFOy"
      },
      "source": [
        "<h1>Policy Iteration Algorithm<h1>\n",
        "<p>This section implements the policy iteration algorithm, which alternates between evaluating the current policy and improving it until convergence.<p>\n"
      ]
    },
    {
      "cell_type": "code",
      "execution_count": 30,
      "metadata": {
        "id": "t7TZfLISTOAO"
      },
      "outputs": [],
      "source": [
        "def policy_iteration(env, gamma=1.0, theta=1e-8):\n",
        "    # Get the number of states and actions from the environment\n",
        "    n_states = env.observation_space.n\n",
        "    n_actions = env.action_space.n\n",
        "\n",
        "    # Initialize a random (uniform) policy\n",
        "    policy = np.ones((n_states, n_actions)) / n_actions\n",
        "\n",
        "    # Initialize the value function to zeros\n",
        "    V = np.zeros(n_states)\n",
        "\n",
        "    stable = False  # Will become True when policy is stable (converged)\n",
        "    iteration = 0   # Count the number of policy improvement iterations\n",
        "\n",
        "    while not stable:\n",
        "        # Policy Evaluation Step\n",
        "        while True:\n",
        "            delta = 0  # Track the maximum value change\n",
        "            for s in range(n_states):\n",
        "                v = 0  # New value for state s\n",
        "                for a, action_prob in enumerate(policy[s]):\n",
        "                    for prob, next_state, reward, done in env.P[s][a]:\n",
        "                        v += action_prob * prob * (reward + gamma * V[next_state])\n",
        "                delta = max(delta, abs(v - V[s]))\n",
        "                V[s] = v  # Update the value function\n",
        "            if delta < theta:  # Convergence check\n",
        "                break\n",
        "\n",
        "        #  Policy Improvement Step\n",
        "        policy_stable = True\n",
        "        for s in range(n_states):\n",
        "            old_action = np.argmax(policy[s])  # Current best action under old policy\n",
        "\n",
        "            q_sa = np.zeros(n_actions)  # Q-values for each action\n",
        "            for a in range(n_actions):\n",
        "                for prob, next_state, reward, done in env.P[s][a]:\n",
        "                    q_sa[a] += prob * (reward + gamma * V[next_state])\n",
        "\n",
        "            best_action = np.argmax(q_sa)  # Action with highest Q-value\n",
        "            new_policy = np.eye(n_actions)[best_action]  # Create one-hot vector for best action\n",
        "\n",
        "            # Check if the policy has changed for this state\n",
        "            if not np.array_equal(policy[s], new_policy):\n",
        "                policy_stable = False  # Policy has changed => not yet stable\n",
        "\n",
        "            policy[s] = new_policy  # Update policy for this state\n",
        "\n",
        "        iteration += 1\n",
        "\n",
        "        if policy_stable:  # If no changes in policy, algorithm is done\n",
        "            break\n",
        "\n",
        "    return V, policy, iteration  # Return value function, final policy, and iteration count\n"
      ]
    },
    {
      "cell_type": "markdown",
      "metadata": {
        "id": "sMz_NWOyqfXw"
      },
      "source": [
        "<h1>Formatting Value Function and Policy Output<h1>\n",
        "<p>This utility function reshapes and converts the value function and policy into a more readable 4x4 grid format, using arrows to represent actions.<p>\n"
      ]
    },
    {
      "cell_type": "code",
      "execution_count": 31,
      "metadata": {
        "id": "MYWvOumXTRGi"
      },
      "outputs": [],
      "source": [
        "def format_output(V, policy):\n",
        "    # Map action indices to arrow symbols for better readability\n",
        "    action_map = ['←', '↓', '→', '↑']\n",
        "\n",
        "    # Reshape the flat value function into a 4x4 grid for visualization\n",
        "    grid = np.array(V).reshape((4, 4))\n",
        "\n",
        "    # Convert the policy (array of one-hot vectors) to arrows using the action_map\n",
        "    policy_grid = np.array([action_map[np.argmax(p)] for p in policy]).reshape((4, 4))\n",
        "\n",
        "    return grid, policy_grid  # Return both the value grid and the visual policy grid\n"
      ]
    },
    {
      "cell_type": "markdown",
      "metadata": {
        "id": "3kq4CP34q0uo"
      },
      "source": [
        "<h1>Policy Evaluation Function<h1>\n",
        "<p>This function runs multiple episodes using the current policy and returns the average reward, providing a measure of the policy's effectiveness.\n",
        "<p>\n"
      ]
    },
    {
      "cell_type": "code",
      "execution_count": 32,
      "metadata": {
        "id": "oQWvQyqQTTh4"
      },
      "outputs": [],
      "source": [
        "def evaluate_policy(env, policy, episodes=1000):\n",
        "    total_rewards = []\n",
        "\n",
        "    # Run multiple episodes to evaluate the policy\n",
        "    for _ in range(episodes):\n",
        "        state, _ = env.reset()  # Reset the environment at the start of each episode\n",
        "        done = False\n",
        "        total_reward = 0\n",
        "\n",
        "        while not done:\n",
        "            # Select the action with the highest probability from the policy\n",
        "            action = np.argmax(policy[state])\n",
        "\n",
        "            # Take the action in the environment\n",
        "            state, reward, done, truncated, info = env.step(action)\n",
        "\n",
        "            # Accumulate the reward\n",
        "            total_reward += reward\n",
        "\n",
        "        # Store the total reward for this episode\n",
        "        total_rewards.append(total_reward)\n",
        "\n",
        "    # Return the average reward over all episodes\n",
        "    return np.mean(total_rewards)\n"
      ]
    },
    {
      "cell_type": "markdown",
      "metadata": {
        "id": "6zLY45ZZrHxL"
      },
      "source": [
        "<h1>Visualizing the State-Value Function<h1>\n",
        "<p>This function uses a heatmap to visualize the state-value function, making it easier to interpret the learned values for each grid cell.\n",
        "<p>\n"
      ]
    },
    {
      "cell_type": "code",
      "execution_count": 33,
      "metadata": {
        "id": "A_NqT_sTcJnN"
      },
      "outputs": [],
      "source": [
        "def plot_value_function(V, title=\"State-Value Function\"):\n",
        "    # Reshape the flat value function into a 4x4 grid\n",
        "    grid = np.array(V).reshape((4, 4))\n",
        "\n",
        "    # Set the figure size for the plot\n",
        "    plt.figure(figsize=(5, 5))\n",
        "\n",
        "    # Create a heatmap to visualize state values\n",
        "    sns.heatmap(\n",
        "        grid,\n",
        "        annot=True,         # Display the value in each cell\n",
        "        cmap=\"cool\",        # Color scheme for the heatmap\n",
        "        fmt=\".5g\",          # Format for numbers\n",
        "        cbar=False,         # Hide color bar\n",
        "        square=True         # Make cells square-shaped\n",
        "    )\n",
        "\n",
        "    # Set the title of the plot\n",
        "    plt.title(title)\n",
        "\n",
        "    # Show the plot\n",
        "    plt.show()\n"
      ]
    },
    {
      "cell_type": "markdown",
      "metadata": {
        "id": "Q0fjjA2Oroww"
      },
      "source": [
        "<h1>Visualizing the Optimal Policy<h1>\n",
        "<p>This function visualizes the optimal policy by displaying action arrows ('↑', '↓', '←', '→') on a 4x4 grid.\n",
        "<p>\n"
      ]
    },
    {
      "cell_type": "code",
      "execution_count": 34,
      "metadata": {
        "id": "AogBcwPDfOFy"
      },
      "outputs": [],
      "source": [
        "def plot_policy(policy_grid, title=\"Optimal Policy\"):\n",
        "    \"\"\"\n",
        "    policy_grid: np.array of shape (4,4) with strings like '↑', '↓', '←', '→'\n",
        "    \"\"\"\n",
        "    # Create a subplot for the policy grid\n",
        "    fig, ax = plt.subplots(figsize=(5, 5))\n",
        "\n",
        "    # Set the title of the plot\n",
        "    ax.set_title(title, fontsize=14)\n",
        "\n",
        "    # Display an empty background for the grid (just a blue-colored grid)\n",
        "    ax.imshow(np.zeros((4, 4)), cmap=\"Blues\")\n",
        "\n",
        "    # Loop over each cell in the policy grid to display the corresponding action symbol\n",
        "    for i in range(4):\n",
        "        for j in range(4):\n",
        "            symbol = policy_grid[i, j]  # Action symbol (e.g., '↑', '↓', '←', '→')\n",
        "            ax.text(\n",
        "                j, i, symbol, ha='center', va='center', fontsize=20, fontweight='bold', color='black'\n",
        "            )  # Place the symbol at the center of the cell\n",
        "\n",
        "    # Remove the x and y ticks from the plot\n",
        "    ax.set_xticks([])\n",
        "    ax.set_yticks([])\n",
        "\n",
        "    # Display the plot\n",
        "    plt.show()\n"
      ]
    },
    {
      "cell_type": "markdown",
      "metadata": {
        "id": "_OMp3521r3KV"
      },
      "source": [
        "<h1>Formatting the Policy Output<h1>\n",
        "<p>This function converts a policy matrix (with action probabilities) into a 4x4 grid of action symbols ('↑', '↓', '←', '→') for better visualization.\n",
        "<p>\n"
      ]
    },
    {
      "cell_type": "code",
      "execution_count": 35,
      "metadata": {
        "id": "_h59SekDd1l4"
      },
      "outputs": [],
      "source": [
        "def format_policy(policy_array, shape=(4, 4)):\n",
        "    \"\"\"\n",
        "    policy_array: A matrix of shape [n_states x n_actions] representing action probabilities,\n",
        "                  such as policy_vi (value iteration policy) or policy_pi (policy iteration policy).\n",
        "    return: A 4x4 matrix of action symbols (arrows) for graphical display.\n",
        "    \"\"\"\n",
        "    # Define a mapping from action indices to action symbols\n",
        "    action_symbols = {\n",
        "        0: '←',  # LEFT\n",
        "        1: '↓',  # DOWN\n",
        "        2: '→',  # RIGHT\n",
        "        3: '↑'   # UP\n",
        "    }\n",
        "\n",
        "    # Find the best action (index) for each state by selecting the action with the highest probability\n",
        "    best_actions = np.argmax(policy_array, axis=1)\n",
        "\n",
        "    # Convert the best action indices to their corresponding symbols (arrows)\n",
        "    symbols = [action_symbols[a] for a in best_actions]\n",
        "\n",
        "    # Reshape the symbols into a 4x4 grid for visual display\n",
        "    return np.array(symbols).reshape(shape)\n"
      ]
    },
    {
      "cell_type": "markdown",
      "metadata": {
        "id": "Ui6PFmnssPmV"
      },
      "source": [
        "<h1>Running Value Iteration and Policy Iteration<h1>\n",
        "<p>This section runs both the Value Iteration and Policy Iteration algorithms to compute the optimal value function and policy for the environment.\n",
        "<p>\n"
      ]
    },
    {
      "cell_type": "code",
      "execution_count": null,
      "metadata": {
        "id": "ThvaYDyDTWWI"
      },
      "outputs": [],
      "source": [
        "# Running Value Iteration\n",
        "V_vi, policy_vi, iters_vi = value_iteration(env)\n",
        "grid_vi, policy_grid_vi = format_output(V_vi, policy_vi)\n",
        "\n",
        "# Running Policy Iteration\n",
        "V_pi, policy_pi, iters_pi = policy_iteration(env)\n",
        "grid_pi, policy_grid_pi = format_output(V_pi, policy_pi)\n"
      ]
    },
    {
      "cell_type": "markdown",
      "metadata": {
        "id": "DHvHgr0EsgpF"
      },
      "source": [
        "<h1>Evaluating the Policies<h1>\n",
        "<p>This section evaluates the performance of the policies obtained from Value Iteration and Policy Iteration by calculating the average reward over multiple episodes.\n",
        "<p>\n"
      ]
    },
    {
      "cell_type": "code",
      "execution_count": 41,
      "metadata": {
        "id": "UfsYQZAgsMZ8"
      },
      "outputs": [],
      "source": [
        "# Evaluating Policies\n",
        "avg_reward_vi = evaluate_policy(env, policy_vi)\n",
        "avg_reward_pi = evaluate_policy(env, policy_pi)"
      ]
    },
    {
      "cell_type": "markdown",
      "metadata": {
        "id": "uMo8xaMFsxT9"
      },
      "source": [
        "<h1>Printing Results for Value Iteration<h1>\n",
        "<p>This section prints the results of the Value Iteration algorithm, including the number of iterations, the optimal value function, the optimal policy, and the average reward obtained by the policy.\n",
        "<p>\n"
      ]
    },
    {
      "cell_type": "code",
      "execution_count": 42,
      "metadata": {
        "colab": {
          "base_uri": "https://localhost:8080/",
          "height": 1000
        },
        "id": "JYoLhf-GnI2Z",
        "outputId": "f5cc594b-5d4a-4f4a-fade-c16a551c711e"
      },
      "outputs": [
        {
          "name": "stdout",
          "output_type": "stream",
          "text": [
            "Value Iteration\n",
            "Iterations: 456\n",
            "Optimal Value Function:\n",
            "\n"
          ]
        },
        {
          "data": {
            "image/png": "[encoded data removed]",
            "text/plain": [
              "<Figure size 500x500 with 1 Axes>"
            ]
          },
          "metadata": {},
          "output_type": "display_data"
        },
        {
          "name": "stdout",
          "output_type": "stream",
          "text": [
            "\n",
            " Optimal Policy:\n",
            "\n"
          ]
        },
        {
          "data": {
            "image/png": "[encoded data removed]",
            "text/plain": [
              "<Figure size 500x500 with 1 Axes>"
            ]
          },
          "metadata": {},
          "output_type": "display_data"
        },
        {
          "name": "stdout",
          "output_type": "stream",
          "text": [
            "\n",
            " Average Reward: 0.821\n"
          ]
        }
      ],
      "source": [
        "# Printing Results\n",
        "print(\"Value Iteration\")\n",
        "print(f\"Iterations: {iters_vi}\")\n",
        "print(\"Optimal Value Function:\\n\")\n",
        "# رسم heatmap برای تابع ارزش\n",
        "plot_value_function(V_vi, title=\"Value Iteration - State-Value Function\")\n",
        "print(\"\\n Optimal Policy:\\n\")\n",
        "# نمایش سیاست بهینه\n",
        "policy_vi_grid = format_policy(policy_vi)\n",
        "plot_policy(policy_vi_grid, title=\"Value Iteration - Optimal Policy\")\n",
        "print(\"\\n Average Reward:\", avg_reward_vi)\n"
      ]
    },
    {
      "cell_type": "markdown",
      "metadata": {
        "id": "B7MVU9hns_qF"
      },
      "source": [
        "<h1>Printing Results for Policy Iteration<h1>\n",
        "<p>This section prints the results of the Policy Iteration algorithm, including the number of iterations, the optimal value function, the optimal policy, and the average reward obtained by the policy.\n",
        "<p>\n"
      ]
    },
    {
      "cell_type": "code",
      "execution_count": 43,
      "metadata": {
        "colab": {
          "base_uri": "https://localhost:8080/",
          "height": 1000
        },
        "id": "nUH20E0EnPBE",
        "outputId": "5de1a487-3827-4565-9be9-9b40f48de3f6"
      },
      "outputs": [
        {
          "name": "stdout",
          "output_type": "stream",
          "text": [
            "Policy Iteration\n",
            "Iterations: 3\n",
            "Optimal Value Function:\n",
            "\n"
          ]
        },
        {
          "data": {
            "image/png": "[encoded data removed]",
            "text/plain": [
              "<Figure size 500x500 with 1 Axes>"
            ]
          },
          "metadata": {},
          "output_type": "display_data"
        },
        {
          "name": "stdout",
          "output_type": "stream",
          "text": [
            "\n",
            " Optimal Policy:\n",
            "\n"
          ]
        },
        {
          "data": {
            "image/png": "[encoded data removed]",
            "text/plain": [
              "<Figure size 500x500 with 1 Axes>"
            ]
          },
          "metadata": {},
          "output_type": "display_data"
        },
        {
          "name": "stdout",
          "output_type": "stream",
          "text": [
            "\n",
            " Average Reward: 0.832\n"
          ]
        }
      ],
      "source": [
        "# Printing Results\n",
        "print(\"Policy Iteration\")\n",
        "print(f\"Iterations: {iters_pi}\")\n",
        "print(\"Optimal Value Function:\\n\")\n",
        "# رسم heatmap برای تابع ارزش\n",
        "plot_value_function(V_pi, title=\"Policy Iteration - State-Value Function\")\n",
        "\n",
        "print(\"\\n Optimal Policy:\\n\")\n",
        "# نمایش سیاست بهینه\n",
        "policy_pi_grid = format_policy(policy_pi)\n",
        "plot_policy(policy_pi_grid, title=\"Policy Iteration - Optimal Policy\")\n",
        "print(\"\\n Average Reward:\", avg_reward_pi)\n"
      ]
    }
  ],
  "metadata": {
    "colab": {
      "provenance": []
    },
    "kernelspec": {
      "display_name": "Python 3",
      "name": "python3"
    },
    "language_info": {
      "name": "python"
    }
  },
  "nbformat": 4,
  "nbformat_minor": 0
}
